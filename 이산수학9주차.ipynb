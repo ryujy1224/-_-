{
  "nbformat": 4,
  "nbformat_minor": 0,
  "metadata": {
    "colab": {
      "provenance": [],
      "authorship_tag": "ABX9TyMj/BZSfo4RU602UOhCTh12",
      "include_colab_link": true
    },
    "kernelspec": {
      "name": "python3",
      "display_name": "Python 3"
    },
    "language_info": {
      "name": "python"
    }
  },
  "cells": [
    {
      "cell_type": "markdown",
      "metadata": {
        "id": "view-in-github",
        "colab_type": "text"
      },
      "source": [
        "<a href=\"https://colab.research.google.com/github/ryujy1224/-_-/blob/main/%EC%9D%B4%EC%82%B0%EC%88%98%ED%95%999%EC%A3%BC%EC%B0%A8.ipynb\" target=\"_parent\"><img src=\"https://colab.research.google.com/assets/colab-badge.svg\" alt=\"Open In Colab\"/></a>"
      ]
    },
    {
      "cell_type": "code",
      "execution_count": 1,
      "metadata": {
        "colab": {
          "base_uri": "https://localhost:8080/"
        },
        "id": "cmUggzoGUsq5",
        "outputId": "5e69f3c4-62a3-4408-9c15-0895645ab763"
      },
      "outputs": [
        {
          "output_type": "stream",
          "name": "stdout",
          "text": [
            "DFS 탐색 순서:\n",
            "Alice Bob David Eve Frank Charlie \n",
            "BFS 탐색 순서:\n",
            "Alice Bob Charlie David Eve Frank "
          ]
        }
      ],
      "source": [
        "# 예시 그래프: 친구 관계\n",
        "graph = {\n",
        "'Alice': ['Bob', 'Charlie'],\n",
        "'Bob': ['David', 'Eve'],\n",
        "'Charlie': ['Frank'],\n",
        "'David': [],\n",
        "'Eve': ['Frank'],\n",
        "'Frank': []\n",
        "}\n",
        "def dfs(graph, v, visited):\n",
        "    visited.add(v)\n",
        "    print(v, end=' ')\n",
        "    for neighbor in graph[v]:\n",
        "        if neighbor not in visited:\n",
        "            dfs(graph, neighbor, visited)\n",
        "\n",
        "print(\"DFS 탐색 순서:\")\n",
        "dfs(graph, 'Alice', set())\n",
        "\n",
        "# 큐(Queue)를 효율적으로 구현할 수 있는 도구\n",
        "from collections import deque\n",
        "\n",
        "def bfs(graph, start):\n",
        "    visited = set()\n",
        "    queue = deque([start])\n",
        "    visited.add(start)\n",
        "\n",
        "    while queue:\n",
        "        v = queue.popleft()\n",
        "        print(v, end=' ')\n",
        "        for neighbor in graph[v]:\n",
        "            if neighbor not in visited:\n",
        "                visited.add(neighbor)\n",
        "                queue.append(neighbor)\n",
        "\n",
        "print(\"\\nBFS 탐색 순서:\")\n",
        "bfs(graph, 'Alice')\n",
        "\n",
        "from collections import deque\n",
        "\n",
        "def recommend_friend(graph, start):\n",
        "    visited = set()\n",
        "    queue = deque([(start, 0)]) # 노드, 거리\n",
        "\n",
        "    # print(f\"\\n{start}의 친구 추천 (2단계):\") # 7행은 주석이므로 제외 가능\n",
        "\n",
        "    while queue:\n",
        "        current, depth = queue.popleft()\n",
        "        if current not in visited:\n",
        "            visited.add(current)\n",
        "            if depth == 2:\n",
        "                print(\"-\", current)\n",
        "\n",
        "            if depth < 2:\n",
        "                for neighbor in graph[current]:\n",
        "                    queue.append((neighbor, depth + 1))"
      ]
    }
  ]
}